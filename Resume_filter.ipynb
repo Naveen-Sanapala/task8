{
  "nbformat": 4,
  "nbformat_minor": 0,
  "metadata": {
    "colab": {
      "name": "Resume_filter.ipynb",
      "provenance": []
    },
    "kernelspec": {
      "name": "python3",
      "display_name": "Python 3"
    },
    "language_info": {
      "name": "python"
    }
  },
  "cells": [
    {
      "cell_type": "code",
      "execution_count": 1,
      "metadata": {
        "id": "EKIG4IE21A4y",
        "colab": {
          "base_uri": "https://localhost:8080/"
        },
        "outputId": "1b0f4f3d-6710-4789-8da5-ac09b6b65f95"
      },
      "outputs": [
        {
          "output_type": "stream",
          "name": "stdout",
          "text": [
            "Collecting docx2txt\n",
            "  Downloading docx2txt-0.8.tar.gz (2.8 kB)\n",
            "Building wheels for collected packages: docx2txt\n",
            "  Building wheel for docx2txt (setup.py) ... \u001b[?25l\u001b[?25hdone\n",
            "  Created wheel for docx2txt: filename=docx2txt-0.8-py3-none-any.whl size=3980 sha256=00af23cc8a32a7d77dcd35d58818968c483c1ed15083febcb840df9d9c03f363\n",
            "  Stored in directory: /root/.cache/pip/wheels/b7/20/b2/473e3aea9a0c0d3e7b2f7bd81d06d0794fec12752733d1f3a8\n",
            "Successfully built docx2txt\n",
            "Installing collected packages: docx2txt\n",
            "Successfully installed docx2txt-0.8\n"
          ]
        }
      ],
      "source": [
        "!pip install docx2txt\n",
        "import docx2txt"
      ]
    },
    {
      "cell_type": "code",
      "source": [
        "import nltk\n",
        "nltk.download('stopwords')\n",
        "from nltk.corpus import stopwords\n",
        "\n",
        "stopwords  = set(stopwords.words('english'))"
      ],
      "metadata": {
        "colab": {
          "base_uri": "https://localhost:8080/"
        },
        "id": "bi7hQsTY7LfN",
        "outputId": "db0c5dc8-2c6d-4a84-bdae-ac90635fe8d1"
      },
      "execution_count": 6,
      "outputs": [
        {
          "output_type": "stream",
          "name": "stderr",
          "text": [
            "[nltk_data] Downloading package stopwords to /root/nltk_data...\n",
            "[nltk_data]   Unzipping corpora/stopwords.zip.\n"
          ]
        }
      ]
    },
    {
      "cell_type": "code",
      "source": [
        "!pip install pyresparser\n",
        "from pyresparser import ResumeParser"
      ],
      "metadata": {
        "colab": {
          "base_uri": "https://localhost:8080/"
        },
        "id": "yEny5vQq68Uf",
        "outputId": "e07bbf29-111f-447c-c7ee-96096e4b5da9"
      },
      "execution_count": 7,
      "outputs": [
        {
          "output_type": "stream",
          "name": "stdout",
          "text": [
            "Requirement already satisfied: pyresparser in /usr/local/lib/python3.7/dist-packages (1.0.6)\n",
            "Requirement already satisfied: thinc>=7.0.4 in /usr/local/lib/python3.7/dist-packages (from pyresparser) (7.4.0)\n",
            "Requirement already satisfied: wasabi>=0.2.2 in /usr/local/lib/python3.7/dist-packages (from pyresparser) (0.9.1)\n",
            "Requirement already satisfied: cymem>=2.0.2 in /usr/local/lib/python3.7/dist-packages (from pyresparser) (2.0.6)\n",
            "Requirement already satisfied: numpy>=1.16.4 in /usr/local/lib/python3.7/dist-packages (from pyresparser) (1.21.6)\n",
            "Requirement already satisfied: six>=1.12.0 in /usr/local/lib/python3.7/dist-packages (from pyresparser) (1.15.0)\n",
            "Requirement already satisfied: urllib3>=1.25.3 in /usr/local/lib/python3.7/dist-packages (from pyresparser) (1.25.11)\n",
            "Requirement already satisfied: pdfminer.six>=20181108 in /usr/local/lib/python3.7/dist-packages (from pyresparser) (20220506)\n",
            "Requirement already satisfied: pyrsistent>=0.15.2 in /usr/local/lib/python3.7/dist-packages (from pyresparser) (0.18.1)\n",
            "Requirement already satisfied: attrs>=19.1.0 in /usr/local/lib/python3.7/dist-packages (from pyresparser) (21.4.0)\n",
            "Requirement already satisfied: spacy>=2.1.4 in /usr/local/lib/python3.7/dist-packages (from pyresparser) (2.2.4)\n",
            "Requirement already satisfied: nltk>=3.4.3 in /usr/local/lib/python3.7/dist-packages (from pyresparser) (3.7)\n",
            "Requirement already satisfied: sortedcontainers>=2.1.0 in /usr/local/lib/python3.7/dist-packages (from pyresparser) (2.4.0)\n",
            "Requirement already satisfied: python-dateutil>=2.8.0 in /usr/local/lib/python3.7/dist-packages (from pyresparser) (2.8.2)\n",
            "Requirement already satisfied: tqdm>=4.32.2 in /usr/local/lib/python3.7/dist-packages (from pyresparser) (4.64.0)\n",
            "Requirement already satisfied: idna>=2.8 in /usr/local/lib/python3.7/dist-packages (from pyresparser) (2.10)\n",
            "Requirement already satisfied: pytz>=2019.1 in /usr/local/lib/python3.7/dist-packages (from pyresparser) (2022.1)\n",
            "Requirement already satisfied: jsonschema>=3.0.1 in /usr/local/lib/python3.7/dist-packages (from pyresparser) (4.3.3)\n",
            "Requirement already satisfied: srsly>=0.0.7 in /usr/local/lib/python3.7/dist-packages (from pyresparser) (1.0.5)\n",
            "Requirement already satisfied: preshed>=2.0.1 in /usr/local/lib/python3.7/dist-packages (from pyresparser) (3.0.6)\n",
            "Requirement already satisfied: pycryptodome>=3.8.2 in /usr/local/lib/python3.7/dist-packages (from pyresparser) (3.14.1)\n",
            "Requirement already satisfied: docx2txt>=0.7 in /usr/local/lib/python3.7/dist-packages (from pyresparser) (0.8)\n",
            "Requirement already satisfied: blis>=0.2.4 in /usr/local/lib/python3.7/dist-packages (from pyresparser) (0.4.1)\n",
            "Requirement already satisfied: pandas>=0.24.2 in /usr/local/lib/python3.7/dist-packages (from pyresparser) (1.3.5)\n",
            "Requirement already satisfied: certifi>=2019.6.16 in /usr/local/lib/python3.7/dist-packages (from pyresparser) (2021.10.8)\n",
            "Requirement already satisfied: requests>=2.22.0 in /usr/local/lib/python3.7/dist-packages (from pyresparser) (2.23.0)\n",
            "Requirement already satisfied: chardet>=3.0.4 in /usr/local/lib/python3.7/dist-packages (from pyresparser) (3.0.4)\n",
            "Requirement already satisfied: importlib-metadata in /usr/local/lib/python3.7/dist-packages (from jsonschema>=3.0.1->pyresparser) (4.11.3)\n",
            "Requirement already satisfied: importlib-resources>=1.4.0 in /usr/local/lib/python3.7/dist-packages (from jsonschema>=3.0.1->pyresparser) (5.7.1)\n",
            "Requirement already satisfied: typing-extensions in /usr/local/lib/python3.7/dist-packages (from jsonschema>=3.0.1->pyresparser) (4.2.0)\n",
            "Requirement already satisfied: zipp>=3.1.0 in /usr/local/lib/python3.7/dist-packages (from importlib-resources>=1.4.0->jsonschema>=3.0.1->pyresparser) (3.8.0)\n",
            "Requirement already satisfied: click in /usr/local/lib/python3.7/dist-packages (from nltk>=3.4.3->pyresparser) (7.1.2)\n",
            "Requirement already satisfied: joblib in /usr/local/lib/python3.7/dist-packages (from nltk>=3.4.3->pyresparser) (1.1.0)\n",
            "Requirement already satisfied: regex>=2021.8.3 in /usr/local/lib/python3.7/dist-packages (from nltk>=3.4.3->pyresparser) (2022.4.24)\n",
            "Requirement already satisfied: cryptography~=36.0.0 in /usr/local/lib/python3.7/dist-packages (from pdfminer.six>=20181108->pyresparser) (36.0.2)\n",
            "Requirement already satisfied: charset-normalizer~=2.0.0 in /usr/local/lib/python3.7/dist-packages (from pdfminer.six>=20181108->pyresparser) (2.0.12)\n",
            "Requirement already satisfied: cffi>=1.12 in /usr/local/lib/python3.7/dist-packages (from cryptography~=36.0.0->pdfminer.six>=20181108->pyresparser) (1.15.0)\n",
            "Requirement already satisfied: pycparser in /usr/local/lib/python3.7/dist-packages (from cffi>=1.12->cryptography~=36.0.0->pdfminer.six>=20181108->pyresparser) (2.21)\n",
            "Requirement already satisfied: murmurhash<1.1.0,>=0.28.0 in /usr/local/lib/python3.7/dist-packages (from preshed>=2.0.1->pyresparser) (1.0.7)\n",
            "Requirement already satisfied: setuptools in /usr/local/lib/python3.7/dist-packages (from spacy>=2.1.4->pyresparser) (57.4.0)\n",
            "Requirement already satisfied: plac<1.2.0,>=0.9.6 in /usr/local/lib/python3.7/dist-packages (from spacy>=2.1.4->pyresparser) (1.1.3)\n",
            "Requirement already satisfied: catalogue<1.1.0,>=0.0.7 in /usr/local/lib/python3.7/dist-packages (from spacy>=2.1.4->pyresparser) (1.0.0)\n"
          ]
        }
      ]
    },
    {
      "cell_type": "code",
      "source": [
        "##file format should be in .txt , .docx or .pdf only\n",
        "filed=input('specify the path of the resume (format(.txt, .docx and .pdf))==')\n",
        "\n",
        "try:\n",
        "    doc_job = Document()\n",
        "    with open(filed, 'r') as file:\n",
        "        doc_job.add_paragraph(file.read())\n",
        "    doc_job.save(\"text1.docx\")\n",
        "    data2 = ResumeParser('text1.docx').get_extracted_data()\n",
        "\n",
        "except:\n",
        "    data2 = ResumeParser(filed).get_extracted_data()\n",
        "    \n",
        "job_des=data2"
      ],
      "metadata": {
        "colab": {
          "base_uri": "https://localhost:8080/"
        },
        "id": "Ub8BKpN2_zP7",
        "outputId": "920e9ccc-fbde-4568-d0ff-65eeb55ea513"
      },
      "execution_count": 56,
      "outputs": [
        {
          "name": "stdout",
          "output_type": "stream",
          "text": [
            "specify the path of the resume (format(.txt, .docx and .pdf))==/content/Job_description (1).docx\n"
          ]
        }
      ]
    },
    {
      "cell_type": "code",
      "source": [
        "job_des_skills=job_des[\"skills\"]\n",
        "job_des_skills_str=\"\"\n",
        "for i in job_des_skills:\n",
        "  job_des_skills_str+=i+\" \"\n",
        "job_des_skills_str"
      ],
      "metadata": {
        "colab": {
          "base_uri": "https://localhost:8080/",
          "height": 36
        },
        "id": "RCOGpilkASWK",
        "outputId": "b33a8743-d2e3-40d5-d232-852abb0793cc"
      },
      "execution_count": 57,
      "outputs": [
        {
          "output_type": "execute_result",
          "data": {
            "text/plain": [
              "'Analytics Numpy Sql Python Process Marketing Pytorch Forecasting Website Analysis Pandas Opencv Seaborn Tensorflow Matplotlib Technical Keras '"
            ],
            "application/vnd.google.colaboratory.intrinsic+json": {
              "type": "string"
            }
          },
          "metadata": {},
          "execution_count": 57
        }
      ]
    },
    {
      "cell_type": "code",
      "source": [
        "##file format should be in .txt , .docx or .pdf only\n",
        "filed=input('specify the path of the resume (format(.txt, .docx and .pdf))==')\n",
        "\n",
        "try:\n",
        "    doc = Document()\n",
        "    with open(filed, 'r') as file:\n",
        "        doc.add_paragraph(file.read())\n",
        "    doc.save(\"text.docx\")\n",
        "    data1 = ResumeParser('text.docx').get_extracted_data()\n",
        "\n",
        "except:\n",
        "    data1 = ResumeParser(filed).get_extracted_data()\n",
        "    \n",
        "resume=data1"
      ],
      "metadata": {
        "colab": {
          "base_uri": "https://localhost:8080/"
        },
        "id": "ZOqv41fb7dJ9",
        "outputId": "ed548336-1535-434b-add5-0cd612c3f7cd"
      },
      "execution_count": 58,
      "outputs": [
        {
          "name": "stdout",
          "output_type": "stream",
          "text": [
            "specify the path of the resume (format(.txt, .docx and .pdf))==/content/reume_dox.docx\n"
          ]
        }
      ]
    },
    {
      "cell_type": "code",
      "source": [
        "resume"
      ],
      "metadata": {
        "colab": {
          "base_uri": "https://localhost:8080/"
        },
        "id": "yCt9tVI77yL0",
        "outputId": "208feaf3-cfe7-440d-cad2-9c51e9b3c1a5"
      },
      "execution_count": 59,
      "outputs": [
        {
          "output_type": "execute_result",
          "data": {
            "text/plain": [
              "{'college_name': None,\n",
              " 'company_names': ['INFOSYS LIMITED'],\n",
              " 'degree': ['Bachelor of Technology (B Tech', 'naveensanapala4@gmail.com'],\n",
              " 'designation': ['SENIOR SYSTEMS ENGINEER'],\n",
              " 'email': 'naveensanapala4@gmail.com',\n",
              " 'experience': None,\n",
              " 'mobile_number': '7095676898',\n",
              " 'name': 'Naveen Sanapala Senior Systems Engineer',\n",
              " 'no_of_pages': None,\n",
              " 'skills': ['Python',\n",
              "  'Word',\n",
              "  'French',\n",
              "  'Engineering',\n",
              "  'Datasets',\n",
              "  'Technical',\n",
              "  'Numpy',\n",
              "  'Sql',\n",
              "  'Pytorch',\n",
              "  'Website',\n",
              "  'Segmentation',\n",
              "  'English',\n",
              "  'Hotel',\n",
              "  'Programming',\n",
              "  'Ai',\n",
              "  'Github',\n",
              "  'Process',\n",
              "  'Analysis',\n",
              "  'German',\n",
              "  'Pandas',\n",
              "  'Seaborn',\n",
              "  'Matplotlib',\n",
              "  'Hospital',\n",
              "  'Analytics',\n",
              "  'Health',\n",
              "  'Mobile',\n",
              "  'Marketing',\n",
              "  'Spanish',\n",
              "  'Opencv',\n",
              "  'Tensorflow',\n",
              "  'Forecasting',\n",
              "  'Expenses',\n",
              "  'Keras'],\n",
              " 'total_experience': 0}"
            ]
          },
          "metadata": {},
          "execution_count": 59
        }
      ]
    },
    {
      "cell_type": "code",
      "source": [
        "resume_skills=resume[\"skills\"]\n",
        "resume_skills_str=\"\"\n",
        "for i in resume_skills:\n",
        "  resume_skills_str+=i+\" \"\n",
        "resume_skills_str"
      ],
      "metadata": {
        "colab": {
          "base_uri": "https://localhost:8080/",
          "height": 53
        },
        "id": "RXWXW0Eb8F27",
        "outputId": "7d91be63-391d-4f8f-840b-efc4ff5f3557"
      },
      "execution_count": 61,
      "outputs": [
        {
          "output_type": "execute_result",
          "data": {
            "text/plain": [
              "'Python Word French Engineering Datasets Technical Numpy Sql Pytorch Website Segmentation English Hotel Programming Ai Github Process Analysis German Pandas Seaborn Matplotlib Hospital Analytics Health Mobile Marketing Spanish Opencv Tensorflow Forecasting Expenses Keras '"
            ],
            "application/vnd.google.colaboratory.intrinsic+json": {
              "type": "string"
            }
          },
          "metadata": {},
          "execution_count": 61
        }
      ]
    },
    {
      "cell_type": "code",
      "source": [
        "content = [job_des_skills_str, resume_skills_str]"
      ],
      "metadata": {
        "id": "kAumuVXb8TUT"
      },
      "execution_count": 62,
      "outputs": []
    },
    {
      "cell_type": "code",
      "source": [
        "from sklearn.feature_extraction.text import CountVectorizer\n",
        "cv = CountVectorizer()\n",
        "count_matrix = cv.fit_transform(content)"
      ],
      "metadata": {
        "id": "nixMLJdsEA6x"
      },
      "execution_count": 63,
      "outputs": []
    },
    {
      "cell_type": "code",
      "source": [
        "from sklearn.metrics.pairwise import cosine_similarity\n",
        "mat = cosine_similarity(count_matrix)\n",
        "print(mat)\n"
      ],
      "metadata": {
        "colab": {
          "base_uri": "https://localhost:8080/"
        },
        "id": "0kF1zG-dEpRA",
        "outputId": "f2971d6f-d428-422e-f778-974fa9d474fa"
      },
      "execution_count": 64,
      "outputs": [
        {
          "output_type": "stream",
          "name": "stdout",
          "text": [
            "[[1.         0.71774056]\n",
            " [0.71774056 1.        ]]\n"
          ]
        }
      ]
    },
    {
      "cell_type": "markdown",
      "source": [
        "We can see 71 percent match\n"
      ],
      "metadata": {
        "id": "HCtkxF84HDTZ"
      }
    },
    {
      "cell_type": "code",
      "source": [
        "match_percentage = mat[1][0]*100"
      ],
      "metadata": {
        "id": "xRfBvQU9HGhh"
      },
      "execution_count": 66,
      "outputs": []
    },
    {
      "cell_type": "code",
      "source": [
        "if match_percentage>=45:\n",
        "  print(\"Resume shortlisted\",\"Candidate can be a fit for the job description\",sep=\"\\n\")\n",
        "else :\n",
        "  print(\"Resume not shortlisted\")"
      ],
      "metadata": {
        "colab": {
          "base_uri": "https://localhost:8080/"
        },
        "id": "HLFl6uADHS_Z",
        "outputId": "ed42b1f8-7ffd-4eef-e70d-87be3a7e9bec"
      },
      "execution_count": 69,
      "outputs": [
        {
          "output_type": "stream",
          "name": "stdout",
          "text": [
            "Resume shortlisted\n",
            "Candidate can be a fit for the job description\n"
          ]
        }
      ]
    }
  ]
}